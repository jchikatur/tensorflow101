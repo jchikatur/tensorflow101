{
 "cells": [
  {
   "cell_type": "code",
   "execution_count": 2,
   "metadata": {},
   "outputs": [],
   "source": [
    "import tensorflow as tf\n",
    "from tensorflow.python.keras.datasets.fashion_mnist import load_data\n",
    "from tensorflow.python.keras.callbacks import TensorBoard\n",
    "from tensorflow.python.keras import Sequential\n",
    "from tensorflow.python.keras.layers import Dense\n",
    "from tensorflow.python.keras.utils import to_categorical"
   ]
  },
  {
   "cell_type": "code",
   "execution_count": 3,
   "metadata": {},
   "outputs": [],
   "source": [
    "history = TensorBoard(log_dir='./fashion_mnist_logs', histogram_freq=0, batch_size=32, write_graph=True, write_grads=False, write_images=False)"
   ]
  },
  {
   "cell_type": "code",
   "execution_count": 5,
   "metadata": {},
   "outputs": [],
   "source": [
    "(x_train, y_train), (x_test, y_test) = load_data()"
   ]
  },
  {
   "cell_type": "code",
   "execution_count": 6,
   "metadata": {},
   "outputs": [],
   "source": [
    "import matplotlib.pyplot as plt\n",
    "% matplotlib inline"
   ]
  },
  {
   "cell_type": "code",
   "execution_count": 7,
   "metadata": {},
   "outputs": [],
   "source": [
    "labels = {\n",
    "        0: \"T-shirt/top\", 1:\"Trouser\", 2:\"Pullover\", 3:\"Dress\",  4:\"Coat\", \n",
    "        5:\"Sandal\",  6:\"Shirt\", 7:\"Sneaker\", 8:\"Bag\", 9:\"Ankle boot\"}"
   ]
  },
  {
   "cell_type": "code",
   "execution_count": 8,
   "metadata": {},
   "outputs": [],
   "source": [
    "def image(index):\n",
    "        plt.imshow(x_train[index], cmap=\"gray\")\n",
    "        plt.title(labels[y_train[index]])"
   ]
  },
  {
   "cell_type": "code",
   "execution_count": 9,
   "metadata": {},
   "outputs": [
    {
     "data": {
      "image/png": "[encoded data removed]",
      "text/plain": [
       "<Figure size 432x288 with 1 Axes>"
      ]
     },
     "metadata": {},
     "output_type": "display_data"
    }
   ],
   "source": [
    "image(0)"
   ]
  },
  {
   "cell_type": "code",
   "execution_count": 10,
   "metadata": {},
   "outputs": [],
   "source": [
    "# Convert type and normalize to (0,1)\n",
    "x_train = x_train.astype(\"float32\")/255\n",
    "x_test = x_test.astype(\"float32\")/255"
   ]
  },
  {
   "cell_type": "code",
   "execution_count": 11,
   "metadata": {},
   "outputs": [],
   "source": [
    "# Flatten the data from (60000, 28, 28) to (60000, 784)\n",
    "x_train_flatten = x_train.reshape(60000, 28*28)\n",
    "x_test_flatten = x_test.reshape(10000, 28*28)"
   ]
  },
  {
   "cell_type": "code",
   "execution_count": 3,
   "metadata": {},
   "outputs": [
    {
     "data": {
      "text/plain": [
       "\u001b[0;31mInit signature:\u001b[0m \u001b[0mDense\u001b[0m\u001b[0;34m(\u001b[0m\u001b[0munits\u001b[0m\u001b[0;34m,\u001b[0m \u001b[0mactivation\u001b[0m\u001b[0;34m=\u001b[0m\u001b[0;32mNone\u001b[0m\u001b[0;34m,\u001b[0m \u001b[0muse_bias\u001b[0m\u001b[0;34m=\u001b[0m\u001b[0;32mTrue\u001b[0m\u001b[0;34m,\u001b[0m \u001b[0mkernel_initializer\u001b[0m\u001b[0;34m=\u001b[0m\u001b[0;34m'glorot_uniform'\u001b[0m\u001b[0;34m,\u001b[0m \u001b[0mbias_initializer\u001b[0m\u001b[0;34m=\u001b[0m\u001b[0;34m'zeros'\u001b[0m\u001b[0;34m,\u001b[0m \u001b[0mkernel_regularizer\u001b[0m\u001b[0;34m=\u001b[0m\u001b[0;32mNone\u001b[0m\u001b[0;34m,\u001b[0m \u001b[0mbias_regularizer\u001b[0m\u001b[0;34m=\u001b[0m\u001b[0;32mNone\u001b[0m\u001b[0;34m,\u001b[0m \u001b[0mactivity_regularizer\u001b[0m\u001b[0;34m=\u001b[0m\u001b[0;32mNone\u001b[0m\u001b[0;34m,\u001b[0m \u001b[0mkernel_constraint\u001b[0m\u001b[0;34m=\u001b[0m\u001b[0;32mNone\u001b[0m\u001b[0;34m,\u001b[0m \u001b[0mbias_constraint\u001b[0m\u001b[0;34m=\u001b[0m\u001b[0;32mNone\u001b[0m\u001b[0;34m,\u001b[0m \u001b[0;34m**\u001b[0m\u001b[0mkwargs\u001b[0m\u001b[0;34m)\u001b[0m\u001b[0;34m\u001b[0m\u001b[0m\n",
       "\u001b[0;31mDocstring:\u001b[0m     \n",
       "Just your regular densely-connected NN layer.\n",
       "\n",
       "`Dense` implements the operation:\n",
       "`output = activation(dot(input, kernel) + bias)`\n",
       "where `activation` is the element-wise activation function\n",
       "passed as the `activation` argument, `kernel` is a weights matrix\n",
       "created by the layer, and `bias` is a bias vector created by the layer\n",
       "(only applicable if `use_bias` is `True`).\n",
       "\n",
       "Note: if the input to the layer has a rank greater than 2, then\n",
       "it is flattened prior to the initial dot product with `kernel`.\n",
       "\n",
       "Example:\n",
       "\n",
       "```python\n",
       "    # as first layer in a sequential model:\n",
       "    model = Sequential()\n",
       "    model.add(Dense(32, input_shape=(16,)))\n",
       "    # now the model will take as input arrays of shape (*, 16)\n",
       "    # and output arrays of shape (*, 32)\n",
       "\n",
       "    # after the first layer, you don't need to specify\n",
       "    # the size of the input anymore:\n",
       "    model.add(Dense(32))\n",
       "```\n",
       "\n",
       "Arguments:\n",
       "    units: Positive integer, dimensionality of the output space.\n",
       "    activation: Activation function to use.\n",
       "        If you don't specify anything, no activation is applied\n",
       "        (ie. \"linear\" activation: `a(x) = x`).\n",
       "    use_bias: Boolean, whether the layer uses a bias vector.\n",
       "    kernel_initializer: Initializer for the `kernel` weights matrix.\n",
       "    bias_initializer: Initializer for the bias vector.\n",
       "    kernel_regularizer: Regularizer function applied to\n",
       "        the `kernel` weights matrix.\n",
       "    bias_regularizer: Regularizer function applied to the bias vector.\n",
       "    activity_regularizer: Regularizer function applied to\n",
       "        the output of the layer (its \"activation\")..\n",
       "    kernel_constraint: Constraint function applied to\n",
       "        the `kernel` weights matrix.\n",
       "    bias_constraint: Constraint function applied to the bias vector.\n",
       "\n",
       "Input shape:\n",
       "    nD tensor with shape: `(batch_size, ..., input_dim)`.\n",
       "    The most common situation would be\n",
       "    a 2D input with shape `(batch_size, input_dim)`.\n",
       "\n",
       "Output shape:\n",
       "    nD tensor with shape: `(batch_size, ..., units)`.\n",
       "    For instance, for a 2D input with shape `(batch_size, input_dim)`,\n",
       "    the output would have shape `(batch_size, units)`.\n",
       "\u001b[0;31mFile:\u001b[0m           ~/.virtualenvs/tf3/lib/python3.6/site-packages/tensorflow/python/keras/_impl/keras/layers/core.py\n",
       "\u001b[0;31mType:\u001b[0m           type\n"
      ]
     },
     "metadata": {},
     "output_type": "display_data"
    }
   ],
   "source": [
    "Dense?"
   ]
  },
  {
   "cell_type": "code",
   "execution_count": 12,
   "metadata": {},
   "outputs": [],
   "source": [
    "model1 = Sequential()\n",
    "model1.add(Dense(100, input_shape=(784,), activation=\"relu\"))\n",
    "model1.add(Dense(10, activation=\"softmax\"))"
   ]
  },
  {
   "cell_type": "code",
   "execution_count": 13,
   "metadata": {},
   "outputs": [],
   "source": [
    "model1.compile(loss='categorical_crossentropy',\n",
    "                     optimizer=\"sgd\",\n",
    "                     metrics=['accuracy'])"
   ]
  },
  {
   "cell_type": "code",
   "execution_count": 14,
   "metadata": {},
   "outputs": [],
   "source": [
    "# Convert class vector to binary class matrices\n",
    "y_train_class = to_categorical(y_train, 10)\n",
    "y_test_class = to_categorical(y_test, 10)"
   ]
  },
  {
   "cell_type": "code",
   "execution_count": 21,
   "metadata": {},
   "outputs": [
    {
     "name": "stdout",
     "output_type": "stream",
     "text": [
      "CPU times: user 2 µs, sys: 1 µs, total: 3 µs\n",
      "Wall time: 6.2 µs\n",
      "Train on 48000 samples, validate on 12000 samples\n",
      "Epoch 1/100\n",
      "48000/48000 [==============================]48000/48000 [==============================] - 1s 19us/step - loss: 0.3073 - acc: 0.8921 - val_loss: 0.3516 - val_acc: 0.8782\n",
      "\n",
      "Epoch 2/100\n",
      "48000/48000 [==============================]48000/48000 [==============================] - 1s 19us/step - loss: 0.3064 - acc: 0.8938 - val_loss: 0.3524 - val_acc: 0.8775\n",
      "\n",
      "Epoch 3/100\n",
      "48000/48000 [==============================]48000/48000 [==============================] - 1s 19us/step - loss: 0.3058 - acc: 0.8933 - val_loss: 0.3518 - val_acc: 0.8777\n",
      "\n",
      "Epoch 4/100\n",
      "48000/48000 [==============================]48000/48000 [==============================] - 1s 19us/step - loss: 0.3051 - acc: 0.8933 - val_loss: 0.3503 - val_acc: 0.8780\n",
      "\n",
      "Epoch 5/100\n",
      "48000/48000 [==============================]48000/48000 [==============================] - 1s 20us/step - loss: 0.3041 - acc: 0.8937 - val_loss: 0.3515 - val_acc: 0.8765\n",
      "\n",
      "Epoch 6/100\n",
      "48000/48000 [==============================]48000/48000 [==============================] - 1s 21us/step - loss: 0.3027 - acc: 0.8946 - val_loss: 0.3509 - val_acc: 0.8789\n",
      "\n",
      "Epoch 7/100\n",
      "48000/48000 [==============================]48000/48000 [==============================] - 1s 19us/step - loss: 0.3026 - acc: 0.8948 - val_loss: 0.3558 - val_acc: 0.8760\n",
      "\n",
      "Epoch 8/100\n",
      "48000/48000 [==============================]48000/48000 [==============================] - 1s 19us/step - loss: 0.3020 - acc: 0.8947 - val_loss: 0.3524 - val_acc: 0.8778\n",
      "\n",
      "Epoch 9/100\n",
      "48000/48000 [==============================]48000/48000 [==============================] - 1s 20us/step - loss: 0.3014 - acc: 0.8946 - val_loss: 0.3498 - val_acc: 0.8772\n",
      "\n",
      "Epoch 10/100\n",
      "48000/48000 [==============================]48000/48000 [==============================] - 1s 20us/step - loss: 0.3001 - acc: 0.8955 - val_loss: 0.3498 - val_acc: 0.8781\n",
      "\n",
      "Epoch 11/100\n",
      "48000/48000 [==============================]48000/48000 [==============================] - 1s 20us/step - loss: 0.3000 - acc: 0.8953 - val_loss: 0.3489 - val_acc: 0.8780\n",
      "\n",
      "Epoch 12/100\n",
      "48000/48000 [==============================]48000/48000 [==============================] - 1s 22us/step - loss: 0.2985 - acc: 0.8955 - val_loss: 0.3484 - val_acc: 0.8776\n",
      "\n",
      "Epoch 13/100\n",
      "48000/48000 [==============================]48000/48000 [==============================] - 1s 19us/step - loss: 0.2979 - acc: 0.8958 - val_loss: 0.3489 - val_acc: 0.8780\n",
      "\n",
      "Epoch 14/100\n",
      "48000/48000 [==============================]48000/48000 [==============================] - 1s 19us/step - loss: 0.2974 - acc: 0.8962 - val_loss: 0.3480 - val_acc: 0.8786\n",
      "\n",
      "Epoch 15/100\n",
      "48000/48000 [==============================]48000/48000 [==============================] - 1s 19us/step - loss: 0.2968 - acc: 0.8959 - val_loss: 0.3531 - val_acc: 0.8760\n",
      "\n",
      "Epoch 16/100\n",
      "48000/48000 [==============================]48000/48000 [==============================] - 1s 20us/step - loss: 0.2960 - acc: 0.8969 - val_loss: 0.3475 - val_acc: 0.8775\n",
      "\n",
      "Epoch 17/100\n",
      "48000/48000 [==============================]48000/48000 [==============================] - 1s 20us/step - loss: 0.2952 - acc: 0.8966 - val_loss: 0.3459 - val_acc: 0.8787\n",
      "\n",
      "Epoch 18/100\n",
      "48000/48000 [==============================]48000/48000 [==============================] - 1s 19us/step - loss: 0.2942 - acc: 0.8975 - val_loss: 0.3484 - val_acc: 0.8795\n",
      "\n",
      "Epoch 19/100\n",
      "48000/48000 [==============================]48000/48000 [==============================] - 1s 19us/step - loss: 0.2935 - acc: 0.8980 - val_loss: 0.3485 - val_acc: 0.8772\n",
      "\n",
      "Epoch 20/100\n",
      "48000/48000 [==============================]48000/48000 [==============================] - 1s 19us/step - loss: 0.2931 - acc: 0.8970 - val_loss: 0.3510 - val_acc: 0.8779\n",
      "\n",
      "Epoch 21/100\n",
      "48000/48000 [==============================]48000/48000 [==============================] - 1s 20us/step - loss: 0.2920 - acc: 0.8976 - val_loss: 0.3463 - val_acc: 0.8804\n",
      "\n",
      "Epoch 22/100\n",
      "48000/48000 [==============================]48000/48000 [==============================] - 1s 21us/step - loss: 0.2915 - acc: 0.8984 - val_loss: 0.3502 - val_acc: 0.8786\n",
      "\n",
      "Epoch 23/100\n",
      "48000/48000 [==============================]48000/48000 [==============================] - 1s 21us/step - loss: 0.2909 - acc: 0.8973 - val_loss: 0.3460 - val_acc: 0.8793\n",
      "\n",
      "Epoch 24/100\n",
      "48000/48000 [==============================]48000/48000 [==============================] - 1s 20us/step - loss: 0.2903 - acc: 0.8991 - val_loss: 0.3433 - val_acc: 0.8787\n",
      "\n",
      "Epoch 25/100\n",
      "48000/48000 [==============================]48000/48000 [==============================] - 1s 20us/step - loss: 0.2895 - acc: 0.8978 - val_loss: 0.3501 - val_acc: 0.8785\n",
      "\n",
      "Epoch 26/100\n",
      "48000/48000 [==============================]48000/48000 [==============================] - 1s 19us/step - loss: 0.2889 - acc: 0.8991 - val_loss: 0.3468 - val_acc: 0.8779\n",
      "\n",
      "Epoch 27/100\n",
      "48000/48000 [==============================]48000/48000 [==============================] - 1s 21us/step - loss: 0.2884 - acc: 0.8992 - val_loss: 0.3441 - val_acc: 0.8813\n",
      "\n",
      "Epoch 28/100\n",
      "48000/48000 [==============================]48000/48000 [==============================] - 1s 20us/step - loss: 0.2868 - acc: 0.8995 - val_loss: 0.3450 - val_acc: 0.8813\n",
      "\n",
      "Epoch 29/100\n",
      "48000/48000 [==============================]48000/48000 [==============================] - 1s 20us/step - loss: 0.2868 - acc: 0.8996 - val_loss: 0.3435 - val_acc: 0.8808\n",
      "\n",
      "Epoch 30/100\n",
      "48000/48000 [==============================]48000/48000 [==============================] - 1s 20us/step - loss: 0.2860 - acc: 0.8995 - val_loss: 0.3476 - val_acc: 0.8793\n",
      "\n",
      "Epoch 31/100\n",
      "48000/48000 [==============================]48000/48000 [==============================] - 1s 20us/step - loss: 0.2854 - acc: 0.9003 - val_loss: 0.3446 - val_acc: 0.8801\n",
      "\n",
      "Epoch 32/100\n",
      "48000/48000 [==============================]48000/48000 [==============================] - 1s 19us/step - loss: 0.2850 - acc: 0.9003 - val_loss: 0.3475 - val_acc: 0.8773\n",
      "\n",
      "Epoch 33/100\n",
      "48000/48000 [==============================]48000/48000 [==============================] - 1s 20us/step - loss: 0.2840 - acc: 0.9003 - val_loss: 0.3537 - val_acc: 0.8758\n",
      "\n",
      "Epoch 34/100\n",
      "48000/48000 [==============================]48000/48000 [==============================] - 1s 20us/step - loss: 0.2835 - acc: 0.9000 - val_loss: 0.3444 - val_acc: 0.8800\n",
      "\n",
      "Epoch 35/100\n",
      "48000/48000 [==============================]48000/48000 [==============================] - 1s 19us/step - loss: 0.2833 - acc: 0.9001 - val_loss: 0.3423 - val_acc: 0.8803\n",
      "\n",
      "Epoch 36/100\n",
      "48000/48000 [==============================]48000/48000 [==============================] - 1s 20us/step - loss: 0.2823 - acc: 0.9012 - val_loss: 0.3434 - val_acc: 0.8813\n",
      "\n",
      "Epoch 37/100\n",
      "48000/48000 [==============================]48000/48000 [==============================] - 1s 19us/step - loss: 0.2819 - acc: 0.9011 - val_loss: 0.3416 - val_acc: 0.8796\n",
      "\n",
      "Epoch 38/100\n",
      "48000/48000 [==============================]48000/48000 [==============================] - 1s 20us/step - loss: 0.2818 - acc: 0.9015 - val_loss: 0.3434 - val_acc: 0.8793\n",
      "\n",
      "Epoch 39/100\n",
      "48000/48000 [==============================]48000/48000 [==============================] - 1s 21us/step - loss: 0.2808 - acc: 0.9016 - val_loss: 0.3418 - val_acc: 0.8795\n",
      "\n",
      "Epoch 40/100\n",
      "48000/48000 [==============================]48000/48000 [==============================] - 1s 19us/step - loss: 0.2798 - acc: 0.9028 - val_loss: 0.3455 - val_acc: 0.8799\n",
      "\n",
      "Epoch 41/100\n",
      "48000/48000 [==============================]48000/48000 [==============================] - 1s 20us/step - loss: 0.2794 - acc: 0.9029 - val_loss: 0.3429 - val_acc: 0.8798\n",
      "\n",
      "Epoch 42/100\n",
      "48000/48000 [==============================]48000/48000 [==============================] - 1s 21us/step - loss: 0.2784 - acc: 0.9033 - val_loss: 0.3572 - val_acc: 0.8744\n",
      "\n",
      "Epoch 43/100\n",
      "48000/48000 [==============================]48000/48000 [==============================] - 1s 23us/step - loss: 0.2787 - acc: 0.9026 - val_loss: 0.3413 - val_acc: 0.8809\n",
      "\n",
      "Epoch 44/100\n",
      "48000/48000 [==============================]48000/48000 [==============================] - 1s 21us/step - loss: 0.2775 - acc: 0.9024 - val_loss: 0.3467 - val_acc: 0.8789\n",
      "\n",
      "Epoch 45/100\n",
      "48000/48000 [==============================]48000/48000 [==============================] - 1s 19us/step - loss: 0.2770 - acc: 0.9021 - val_loss: 0.3431 - val_acc: 0.8802\n",
      "\n",
      "Epoch 46/100\n",
      "48000/48000 [==============================]48000/48000 [==============================] - 1s 19us/step - loss: 0.2763 - acc: 0.9036 - val_loss: 0.3401 - val_acc: 0.8814\n",
      "\n",
      "Epoch 47/100\n",
      "48000/48000 [==============================]48000/48000 [==============================] - 1s 20us/step - loss: 0.2756 - acc: 0.9034 - val_loss: 0.3503 - val_acc: 0.8787\n",
      "\n",
      "Epoch 48/100\n",
      "48000/48000 [==============================]48000/48000 [==============================] - 1s 20us/step - loss: 0.2751 - acc: 0.9032 - val_loss: 0.3507 - val_acc: 0.8754\n",
      "\n",
      "Epoch 49/100\n",
      "48000/48000 [==============================]48000/48000 [==============================] - 1s 22us/step - loss: 0.2748 - acc: 0.9035 - val_loss: 0.3410 - val_acc: 0.8816\n",
      "\n",
      "Epoch 50/100\n",
      "48000/48000 [==============================]48000/48000 [==============================] - 1s 23us/step - loss: 0.2743 - acc: 0.9025 - val_loss: 0.3405 - val_acc: 0.8804\n",
      "\n",
      "Epoch 51/100\n",
      "48000/48000 [==============================]48000/48000 [==============================] - 1s 21us/step - loss: 0.2738 - acc: 0.9045 - val_loss: 0.3434 - val_acc: 0.8796\n",
      "\n",
      "Epoch 52/100\n",
      "48000/48000 [==============================]48000/48000 [==============================] - 1s 21us/step - loss: 0.2729 - acc: 0.9048 - val_loss: 0.3400 - val_acc: 0.8806\n",
      "\n",
      "Epoch 53/100\n",
      "48000/48000 [==============================]48000/48000 [==============================] - 1s 21us/step - loss: 0.2722 - acc: 0.9049 - val_loss: 0.3419 - val_acc: 0.8807\n",
      "\n",
      "Epoch 54/100\n",
      "48000/48000 [==============================]48000/48000 [==============================] - 1s 23us/step - loss: 0.2717 - acc: 0.9045 - val_loss: 0.3469 - val_acc: 0.8787\n",
      "\n",
      "Epoch 55/100\n",
      "48000/48000 [==============================]48000/48000 [==============================] - 1s 22us/step - loss: 0.2714 - acc: 0.9050 - val_loss: 0.3410 - val_acc: 0.8802\n",
      "\n",
      "Epoch 56/100\n",
      "48000/48000 [==============================]48000/48000 [==============================] - 1s 21us/step - loss: 0.2705 - acc: 0.9044 - val_loss: 0.3464 - val_acc: 0.8799\n",
      "\n",
      "Epoch 57/100\n",
      "48000/48000 [==============================]48000/48000 [==============================] - 1s 21us/step - loss: 0.2700 - acc: 0.9055 - val_loss: 0.3380 - val_acc: 0.8821\n",
      "\n",
      "Epoch 58/100\n",
      "48000/48000 [==============================]48000/48000 [==============================] - 1s 23us/step - loss: 0.2691 - acc: 0.9064 - val_loss: 0.3441 - val_acc: 0.8811\n",
      "\n",
      "Epoch 59/100\n",
      "48000/48000 [==============================]48000/48000 [==============================] - 1s 21us/step - loss: 0.2692 - acc: 0.9055 - val_loss: 0.3431 - val_acc: 0.8788\n",
      "\n",
      "Epoch 60/100\n",
      "48000/48000 [==============================]48000/48000 [==============================] - 1s 20us/step - loss: 0.2682 - acc: 0.9061 - val_loss: 0.3401 - val_acc: 0.8812\n",
      "\n",
      "Epoch 61/100\n",
      "48000/48000 [==============================]48000/48000 [==============================] - 1s 19us/step - loss: 0.2684 - acc: 0.9052 - val_loss: 0.3438 - val_acc: 0.8781\n",
      "\n",
      "Epoch 62/100\n",
      "48000/48000 [==============================]48000/48000 [==============================] - 1s 18us/step - loss: 0.2676 - acc: 0.9059 - val_loss: 0.3489 - val_acc: 0.8782\n",
      "\n",
      "Epoch 63/100\n",
      "48000/48000 [==============================]48000/48000 [==============================] - 1s 19us/step - loss: 0.2671 - acc: 0.9058 - val_loss: 0.3514 - val_acc: 0.8776\n",
      "\n",
      "Epoch 64/100\n",
      "48000/48000 [==============================]48000/48000 [==============================] - 1s 19us/step - loss: 0.2666 - acc: 0.9071 - val_loss: 0.3423 - val_acc: 0.8812\n",
      "\n",
      "Epoch 65/100\n",
      "48000/48000 [==============================]48000/48000 [==============================] - 1s 20us/step - loss: 0.2662 - acc: 0.9067 - val_loss: 0.3408 - val_acc: 0.8798\n",
      "\n",
      "Epoch 66/100\n",
      "48000/48000 [==============================]48000/48000 [==============================] - 1s 19us/step - loss: 0.2655 - acc: 0.9069 - val_loss: 0.3362 - val_acc: 0.8830\n",
      "\n",
      "Epoch 67/100\n",
      "48000/48000 [==============================]48000/48000 [==============================] - 1s 20us/step - loss: 0.2650 - acc: 0.9066 - val_loss: 0.3368 - val_acc: 0.8830\n",
      "\n",
      "Epoch 68/100\n",
      "48000/48000 [==============================]48000/48000 [==============================] - 1s 20us/step - loss: 0.2639 - acc: 0.9081 - val_loss: 0.3418 - val_acc: 0.8802\n",
      "\n",
      "Epoch 69/100\n",
      "48000/48000 [==============================]48000/48000 [==============================] - 1s 18us/step - loss: 0.2641 - acc: 0.9073 - val_loss: 0.3430 - val_acc: 0.8801\n",
      "\n",
      "Epoch 70/100\n",
      "48000/48000 [==============================]48000/48000 [==============================] - 1s 19us/step - loss: 0.2631 - acc: 0.9074 - val_loss: 0.3390 - val_acc: 0.8817\n",
      "\n",
      "Epoch 71/100\n",
      "48000/48000 [==============================]48000/48000 [==============================] - 1s 18us/step - loss: 0.2622 - acc: 0.9077 - val_loss: 0.3373 - val_acc: 0.8819\n",
      "\n",
      "Epoch 72/100\n",
      "48000/48000 [==============================]48000/48000 [==============================] - 1s 18us/step - loss: 0.2625 - acc: 0.9083 - val_loss: 0.3542 - val_acc: 0.8753\n",
      "\n",
      "Epoch 73/100\n",
      "48000/48000 [==============================]48000/48000 [==============================] - 1s 19us/step - loss: 0.2618 - acc: 0.9090 - val_loss: 0.3388 - val_acc: 0.8812\n",
      "\n",
      "Epoch 74/100\n",
      "48000/48000 [==============================]48000/48000 [==============================] - 1s 19us/step - loss: 0.2610 - acc: 0.9092 - val_loss: 0.3369 - val_acc: 0.8815\n",
      "\n",
      "Epoch 75/100\n",
      "48000/48000 [==============================]48000/48000 [==============================] - 1s 20us/step - loss: 0.2605 - acc: 0.9089 - val_loss: 0.3409 - val_acc: 0.8810\n",
      "\n",
      "Epoch 76/100\n",
      "48000/48000 [==============================]48000/48000 [==============================] - 1s 19us/step - loss: 0.2602 - acc: 0.9082 - val_loss: 0.3383 - val_acc: 0.8818\n",
      "\n",
      "Epoch 77/100\n",
      "48000/48000 [==============================]48000/48000 [==============================] - 1s 19us/step - loss: 0.2590 - acc: 0.9093 - val_loss: 0.3369 - val_acc: 0.8808\n",
      "\n",
      "Epoch 78/100\n",
      "48000/48000 [==============================]48000/48000 [==============================] - 1s 19us/step - loss: 0.2590 - acc: 0.9103 - val_loss: 0.3380 - val_acc: 0.8826\n",
      "\n",
      "Epoch 79/100\n",
      "48000/48000 [==============================]48000/48000 [==============================] - 1s 19us/step - loss: 0.2588 - acc: 0.9090 - val_loss: 0.3336 - val_acc: 0.8837\n",
      "\n",
      "Epoch 80/100\n",
      "48000/48000 [==============================]48000/48000 [==============================] - 1s 19us/step - loss: 0.2582 - acc: 0.9102 - val_loss: 0.3357 - val_acc: 0.8824\n",
      "\n",
      "Epoch 81/100\n",
      "48000/48000 [==============================]48000/48000 [==============================] - 1s 19us/step - loss: 0.2574 - acc: 0.9100 - val_loss: 0.3338 - val_acc: 0.8835\n",
      "\n",
      "Epoch 82/100\n",
      "48000/48000 [==============================]48000/48000 [==============================] - 1s 19us/step - loss: 0.2570 - acc: 0.9104 - val_loss: 0.3337 - val_acc: 0.8837\n",
      "\n",
      "Epoch 83/100\n",
      "48000/48000 [==============================]48000/48000 [==============================] - 1s 18us/step - loss: 0.2563 - acc: 0.9101 - val_loss: 0.3359 - val_acc: 0.8832\n",
      "\n",
      "Epoch 84/100\n",
      "48000/48000 [==============================]48000/48000 [==============================] - 1s 18us/step - loss: 0.2561 - acc: 0.9104 - val_loss: 0.3389 - val_acc: 0.8824\n",
      "\n",
      "Epoch 85/100\n",
      "48000/48000 [==============================]48000/48000 [==============================] - 1s 18us/step - loss: 0.2559 - acc: 0.9095 - val_loss: 0.3414 - val_acc: 0.8797\n",
      "\n",
      "Epoch 86/100\n",
      "48000/48000 [==============================]48000/48000 [==============================] - 1s 19us/step - loss: 0.2554 - acc: 0.9115 - val_loss: 0.3420 - val_acc: 0.8802\n",
      "\n",
      "Epoch 87/100\n",
      "48000/48000 [==============================]48000/48000 [==============================] - 1s 19us/step - loss: 0.2550 - acc: 0.9107 - val_loss: 0.3333 - val_acc: 0.8830\n",
      "\n",
      "Epoch 88/100\n",
      "48000/48000 [==============================]48000/48000 [==============================] - 1s 19us/step - loss: 0.2541 - acc: 0.9115 - val_loss: 0.3348 - val_acc: 0.8825\n",
      "\n",
      "Epoch 89/100\n",
      "48000/48000 [==============================]48000/48000 [==============================] - 1s 19us/step - loss: 0.2536 - acc: 0.9113 - val_loss: 0.3363 - val_acc: 0.8828\n",
      "\n",
      "Epoch 90/100\n",
      "48000/48000 [==============================]48000/48000 [==============================] - 1s 19us/step - loss: 0.2534 - acc: 0.9107 - val_loss: 0.3514 - val_acc: 0.8755\n",
      "\n",
      "Epoch 91/100\n",
      "48000/48000 [==============================]48000/48000 [==============================] - 1s 19us/step - loss: 0.2531 - acc: 0.9120 - val_loss: 0.3394 - val_acc: 0.8814\n",
      "\n",
      "Epoch 92/100\n",
      "48000/48000 [==============================]48000/48000 [==============================] - 1s 19us/step - loss: 0.2520 - acc: 0.9129 - val_loss: 0.3343 - val_acc: 0.8835\n",
      "\n",
      "Epoch 93/100\n",
      "48000/48000 [==============================]48000/48000 [==============================] - 1s 19us/step - loss: 0.2522 - acc: 0.9122 - val_loss: 0.3349 - val_acc: 0.8809\n",
      "\n",
      "Epoch 94/100\n",
      "48000/48000 [==============================]48000/48000 [==============================] - 1s 20us/step - loss: 0.2512 - acc: 0.9129 - val_loss: 0.3376 - val_acc: 0.8829\n",
      "\n",
      "Epoch 95/100\n",
      "48000/48000 [==============================]48000/48000 [==============================] - 1s 21us/step - loss: 0.2509 - acc: 0.9119 - val_loss: 0.3337 - val_acc: 0.8836\n",
      "\n",
      "Epoch 96/100\n",
      "48000/48000 [==============================]48000/48000 [==============================] - 1s 24us/step - loss: 0.2508 - acc: 0.9129 - val_loss: 0.3343 - val_acc: 0.8827\n",
      "\n",
      "Epoch 97/100\n",
      "48000/48000 [==============================]48000/48000 [==============================] - 1s 21us/step - loss: 0.2507 - acc: 0.9128 - val_loss: 0.3324 - val_acc: 0.8830\n",
      "\n",
      "Epoch 98/100\n",
      "48000/48000 [==============================]48000/48000 [==============================] - 1s 20us/step - loss: 0.2494 - acc: 0.9127 - val_loss: 0.3326 - val_acc: 0.8844\n",
      "\n",
      "Epoch 99/100\n",
      "48000/48000 [==============================]48000/48000 [==============================] - 1s 20us/step - loss: 0.2483 - acc: 0.9136 - val_loss: 0.3356 - val_acc: 0.8819\n",
      "\n",
      "Epoch 100/100\n",
      "48000/48000 [==============================]48000/48000 [==============================] - 1s 22us/step - loss: 0.2483 - acc: 0.9135 - val_loss: 0.3384 - val_acc: 0.8823\n",
      "\n"
     ]
    },
    {
     "data": {
      "text/plain": [
       "<tensorflow.python.keras._impl.keras.callbacks.History at 0x131cca748>"
      ]
     },
     "execution_count": 21,
     "metadata": {},
     "output_type": "execute_result"
    }
   ],
   "source": [
    "%time\n",
    "model1.fit(x_train_flatten, y_train_class, batch_size=128, epochs=100, verbose=1, validation_split=0.2, callbacks=[history])"
   ]
  },
  {
   "cell_type": "code",
   "execution_count": 22,
   "metadata": {},
   "outputs": [
    {
     "name": "stdout",
     "output_type": "stream",
     "text": [
      "10000/10000 [==============================]10000/10000 [==============================] - 0s 25us/step\n",
      "\n"
     ]
    }
   ],
   "source": [
    "score = model1.evaluate(x_test_flatten, y_test_class)"
   ]
  },
  {
   "cell_type": "code",
   "execution_count": 23,
   "metadata": {},
   "outputs": [
    {
     "data": {
      "text/plain": [
       "[0.36228553161621097, 0.8717]"
      ]
     },
     "execution_count": 23,
     "metadata": {},
     "output_type": "execute_result"
    }
   ],
   "source": [
    "score"
   ]
  },
  {
   "cell_type": "code",
   "execution_count": 28,
   "metadata": {},
   "outputs": [],
   "source": [
    "index = 8898"
   ]
  },
  {
   "cell_type": "code",
   "execution_count": 29,
   "metadata": {},
   "outputs": [
    {
     "data": {
      "image/png": "[encoded data removed]",
      "text/plain": [
       "<Figure size 288x432 with 2 Axes>"
      ]
     },
     "metadata": {},
     "output_type": "display_data"
    }
   ],
   "source": [
    "label_array = [\"T-shirt/top\", \"Trouser\", \"Pullover\", \"Dress\",  \"Coat\", \n",
    "               \"Sandal\", \"Shirt\", \"Sneaker\", \"Bag\", \"Ankle boot\"]\n",
    "proba = model1.predict_proba(x_test_flatten)\n",
    "fig = plt.figure(figsize=(4, 6)) \n",
    "plt.subplot(211)\n",
    "plt.imshow(x_test[index], cmap=\"gray\")\n",
    "plt.title(label_array[y_test[index]])\n",
    "\n",
    "plt.subplot(212)\n",
    "plt.barh(y=range(len(proba[index])), width=proba[index], tick_label=label_array)\n",
    "plt.xlim(0,1)\n",
    "\n",
    "plt.tight_layout()"
   ]
  },
  {
   "cell_type": "code",
   "execution_count": null,
   "metadata": {},
   "outputs": [],
   "source": []
  },
  {
   "cell_type": "code",
   "execution_count": null,
   "metadata": {},
   "outputs": [],
   "source": []
  },
  {
   "cell_type": "code",
   "execution_count": null,
   "metadata": {},
   "outputs": [],
   "source": []
  },
  {
   "cell_type": "code",
   "execution_count": null,
   "metadata": {},
   "outputs": [],
   "source": []
  }
 ],
 "metadata": {
  "kernelspec": {
   "display_name": "Python 3",
   "language": "python",
   "name": "python3"
  },
  "language_info": {
   "codemirror_mode": {
    "name": "ipython",
    "version": 3
   },
   "file_extension": ".py",
   "mimetype": "text/x-python",
   "name": "python",
   "nbconvert_exporter": "python",
   "pygments_lexer": "ipython3",
   "version": "3.6.1"
  }
 },
 "nbformat": 4,
 "nbformat_minor": 2
}
