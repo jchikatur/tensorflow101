{
 "cells": [
  {
   "cell_type": "markdown",
   "metadata": {},
   "source": [
    "# Tensorflow\n",
    "\n",
    "## What is Tensorflow\n",
    "The name “**TensorFlow**” is derived from the operations which neural networks perform on multidimensional data arrays or _tensors_! \n",
    "\n",
    "### Tensors\n",
    "To understand **tensors** you need to have a working knowledge of vector components and basis vectors.\n",
    "\n",
    "**_Reference video_**: https://www.youtube.com/watch?v=f5liqUk0ZTw\n",
    "\n",
    "A **vector** is characterized as scalar magnitudes that have been given a direction. A tensor, then, is the mathematical representation of a physical entity that may be characterized by magnitude and multiple directions.\n",
    "\n",
    "And, just like you represent a scalar with a single number and a vector with sequence of three numbers in a 3-dimensional space, a tensor can be represented by an array of 3R numbers in a 3-dimensional space.\n",
    "\n",
    "The “R” in this notation represents the rank of the tensor: this means that in a 3-dimensional space, a second-rank tensor can be represented by 3 to the power of 2 or 9 numbers. In an N-dimensional space, scalars will still require only one number, while vectors will require N numbers, and tensors will require N^R numbers. Scalars are tensors of rank 0: since they have no direction, you can represent them with one number.\n",
    "\n",
    "Scalars can be represented by a single number, vectors by an ordered set of numbers, and tensors by an array of numbers.\n",
    "\n",
    "What makes tensors so special is the combination of components and basis vectors: basis vectors transform one way between reference frames and the components transform in just such a way as to keep the combination between components and basis vectors the same.\n",
    "\n",
    "## Installing Tensorflow\n",
    "### Supported languages\n",
    "TensorFlow provides APIs for:\n",
    "* Python\n",
    "* C++\n",
    "* Haskell\n",
    "* Java\n",
    "* Go\n",
    "* Rust\n",
    "* R (there’s a third-party package for R called `tensorflow`)\n",
    "\n",
    "### Tensorflow with Python\n",
    "**prerequisites**: python3, pip\n",
    "\n",
    "```\n",
    "python3 -m pip install virtualenv\n",
    "virtualenv tensorflow -p python3\n",
    "source tensorflow/bin/activate\n",
    "pip install tensorflow\n",
    "```"
   ]
  },
  {
   "cell_type": "markdown",
   "metadata": {},
   "source": [
    "## Tensorflow demo"
   ]
  },
  {
   "cell_type": "markdown",
   "metadata": {},
   "source": [
    "### Basics"
   ]
  },
  {
   "cell_type": "code",
   "execution_count": 2,
   "metadata": {},
   "outputs": [],
   "source": [
    "# Import tensorflow\n",
    "import tensorflow as tf"
   ]
  },
  {
   "cell_type": "code",
   "execution_count": 3,
   "metadata": {},
   "outputs": [],
   "source": [
    "# Initialize 2 constants\n",
    "x1 = tf.constant([1,2,3,4])\n",
    "x2 = tf.constant([5,6,7,8])"
   ]
  },
  {
   "cell_type": "code",
   "execution_count": 4,
   "metadata": {},
   "outputs": [],
   "source": [
    "# Multiply the constants\n",
    "result = tf.multiply(x1, x2)"
   ]
  },
  {
   "cell_type": "code",
   "execution_count": 5,
   "metadata": {},
   "outputs": [
    {
     "data": {
      "text/plain": [
       "<tf.Tensor 'Mul:0' shape=(4,) dtype=int32>"
      ]
     },
     "execution_count": 5,
     "metadata": {},
     "output_type": "execute_result"
    }
   ],
   "source": [
    "result"
   ]
  },
  {
   "cell_type": "code",
   "execution_count": 6,
   "metadata": {},
   "outputs": [
    {
     "name": "stdout",
     "output_type": "stream",
     "text": [
      "[ 5 12 21 32]\n"
     ]
    }
   ],
   "source": [
    "# Initialize the session and run the result\n",
    "with tf.Session() as sess:\n",
    "    output = sess.run(result)\n",
    "    print (output)"
   ]
  },
  {
   "cell_type": "code",
   "execution_count": 8,
   "metadata": {},
   "outputs": [],
   "source": [
    "from tensorflow.python.keras.datasets.fashion_mnist import load_data"
   ]
  },
  {
   "cell_type": "code",
   "execution_count": 35,
   "metadata": {},
   "outputs": [],
   "source": [
    "(x_train, y_train), (x_test, y_test) = load_data()"
   ]
  },
  {
   "cell_type": "code",
   "execution_count": 36,
   "metadata": {},
   "outputs": [],
   "source": [
    "# Convert type and normalize to (0,1)\n",
    "x_train = x_train.astype(\"float32\")/255\n",
    "x_test = x_test.astype(\"float32\")/255"
   ]
  },
  {
   "cell_type": "code",
   "execution_count": 37,
   "metadata": {},
   "outputs": [],
   "source": [
    "labels = {\n",
    "        0: \"T-shirt/top\", 1:\"Trouser\", 2:\"Pullover\", 3:\"Dress\",  4:\"Coat\", \n",
    "        5:\"Sandal\",  6:\"Shirt\", 7:\"Sneaker\", 8:\"Bag\", 9:\"Ankle boot\"}"
   ]
  },
  {
   "cell_type": "code",
   "execution_count": 38,
   "metadata": {},
   "outputs": [],
   "source": [
    "y_train = y_train.astype(\"int\")\n",
    "y_test = y_test.astype(\"int\")"
   ]
  },
  {
   "cell_type": "code",
   "execution_count": 39,
   "metadata": {},
   "outputs": [],
   "source": [
    "# Initialize placeholders \n",
    "x = tf.placeholder(dtype = tf.float32, shape = [None, 28, 28])\n",
    "y = tf.placeholder(dtype = tf.int32, shape = [None])"
   ]
  },
  {
   "cell_type": "code",
   "execution_count": 40,
   "metadata": {},
   "outputs": [],
   "source": [
    "# Flatten the input data\n",
    "images_flat = tf.contrib.layers.flatten(x)"
   ]
  },
  {
   "cell_type": "code",
   "execution_count": 139,
   "metadata": {},
   "outputs": [],
   "source": [
    "# Fully connected layer \n",
    "logits = tf.contrib.layers.fully_connected(images_flat, 100, tf.nn.relu)\n",
    "# layer1 = tf.layers.dense(inputs=images_flat, units=100, activation=tf.nn.relu)\n",
    "# logits = tf.layers.dense(inputs=layer1, units=10, activation=tf.nn.softmax)"
   ]
  },
  {
   "cell_type": "code",
   "execution_count": 140,
   "metadata": {},
   "outputs": [],
   "source": [
    "loss = tf.reduce_mean(tf.nn.sparse_softmax_cross_entropy_with_logits(logits=logits, labels=y_train))"
   ]
  },
  {
   "cell_type": "code",
   "execution_count": 101,
   "metadata": {},
   "outputs": [],
   "source": [
    "# Define a loss function\n",
    "# loss = tf.reduce_mean(logits)\n"
   ]
  },
  {
   "cell_type": "code",
   "execution_count": 146,
   "metadata": {},
   "outputs": [],
   "source": [
    "# Define an optimizer \n",
    "train_op = tf.train.GradientDescentOptimizer(learning_rate=0.1).minimize(loss)"
   ]
  },
  {
   "cell_type": "code",
   "execution_count": 147,
   "metadata": {},
   "outputs": [],
   "source": [
    "# Convert logits to label indexes\n",
    "correct_pred = tf.argmax(logits, 1)"
   ]
  },
  {
   "cell_type": "code",
   "execution_count": 148,
   "metadata": {},
   "outputs": [],
   "source": [
    "# Define an accuracy metric\n",
    "accuracy = tf.reduce_mean(tf.cast(correct_pred, tf.float32))"
   ]
  },
  {
   "cell_type": "code",
   "execution_count": 149,
   "metadata": {},
   "outputs": [],
   "source": [
    "tf.set_random_seed(1234)"
   ]
  },
  {
   "cell_type": "code",
   "execution_count": 150,
   "metadata": {},
   "outputs": [
    {
     "name": "stdout",
     "output_type": "stream",
     "text": [
      "Loss:  4.8859873\n",
      "Accuracy: None\n",
      "Loss:  2.1264882\n",
      "Accuracy: None\n",
      "Loss:  1.3146545\n",
      "Accuracy: None\n",
      "Loss:  1.1019297\n",
      "Accuracy: None\n",
      "Loss:  0.99316394\n",
      "Accuracy: None\n",
      "Loss:  0.92370754\n",
      "Accuracy: None\n",
      "Loss:  0.8740486\n",
      "Accuracy: None\n",
      "Loss:  0.8360674\n",
      "Accuracy: None\n",
      "Loss:  0.80570143\n",
      "Accuracy: None\n",
      "Loss:  0.78065276\n",
      "Accuracy: None\n"
     ]
    }
   ],
   "source": [
    "with tf.Session() as sess:\n",
    "    sess.run(tf.global_variables_initializer())\n",
    "    for i in range(100):\n",
    "        _, loss_value = sess.run([train_op, loss], feed_dict={x: x_train, y: y_train})\n",
    "        if i % 10 == 0:\n",
    "            print(\"Loss: \", loss_value)\n",
    "            print (\"Accuracy:\", _)\n",
    "    predicted = sess.run([correct_pred], feed_dict={x: x_test})[0]"
   ]
  },
  {
   "cell_type": "code",
   "execution_count": 151,
   "metadata": {},
   "outputs": [],
   "source": [
    "# Calculate correct matches \n",
    "match_count = sum([int(y == y_) for y, y_ in zip(y_test, predicted)])\n",
    "\n",
    "# Calculate the accuracy\n",
    "accuracy = match_count / len(y_test)"
   ]
  },
  {
   "cell_type": "code",
   "execution_count": 152,
   "metadata": {},
   "outputs": [
    {
     "data": {
      "text/plain": [
       "0.7563"
      ]
     },
     "execution_count": 152,
     "metadata": {},
     "output_type": "execute_result"
    }
   ],
   "source": [
    "accuracy"
   ]
  },
  {
   "cell_type": "code",
   "execution_count": null,
   "metadata": {},
   "outputs": [],
   "source": []
  }
 ],
 "metadata": {
  "kernelspec": {
   "display_name": "Python 3",
   "language": "python",
   "name": "python3"
  },
  "language_info": {
   "codemirror_mode": {
    "name": "ipython",
    "version": 3
   },
   "file_extension": ".py",
   "mimetype": "text/x-python",
   "name": "python",
   "nbconvert_exporter": "python",
   "pygments_lexer": "ipython3",
   "version": "3.6.1"
  }
 },
 "nbformat": 4,
 "nbformat_minor": 2
}
